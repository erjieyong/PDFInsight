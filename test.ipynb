{
 "cells": [
  {
   "cell_type": "code",
   "execution_count": null,
   "metadata": {},
   "outputs": [],
   "source": [
    "from src.pdfinsight import pdf_extractor, remove_toc, combine_categories, pivot_df_by_heading, df2docstore\n",
    "import pandas as pd\n",
    "import os"
   ]
  },
  {
   "cell_type": "code",
   "execution_count": null,
   "metadata": {},
   "outputs": [],
   "source": [
    "df_combined = pd.DataFrame()\n",
    "for (root,dirs,files) in os.walk('.', topdown=True):\n",
    "    for file in files:\n",
    "        # only use it on pdf docs. ignore other file type such as txt\n",
    "        if file.split(\".\")[-1] == \"pdf\":\n",
    "            # print(root+\"\\\\\"+file)\n",
    "            df = pdf_extractor(root+\"\\\\\"+file, toc_pages = 1, precision_dp = 2)\n",
    "            df_combined = pd.concat([df_combined,df])\n",
    "    break\n",
    "\n",
    "# reset index\n",
    "df_combined.reset_index(drop=True, inplace=True)"
   ]
  },
  {
   "cell_type": "code",
   "execution_count": null,
   "metadata": {},
   "outputs": [],
   "source": [
    "df_combined"
   ]
  },
  {
   "cell_type": "code",
   "execution_count": null,
   "metadata": {},
   "outputs": [],
   "source": [
    "# we check the ymin difference between each row INSTEAD OF BLOCK. \n",
    "# this is important in determining the para_thres\n",
    "# text below the para_thres would be considered to be in the same block of text (ie para) \n",
    "# seems like if those between 0 to 20 is above 70%, we can set that as para_thres\n",
    "pd.DataFrame(pd.cut([idx for idx in df['ymin_round'].diff()], [-1000, -0.01,10, 20, 30, 40, 50, 1000])).value_counts(normalize=True).sort_index()"
   ]
  },
  {
   "cell_type": "code",
   "execution_count": null,
   "metadata": {},
   "outputs": [],
   "source": [
    "# double check the ymin_thres between REFINED_BLOCKS\n",
    "# as long as our defined para_thres of 20 is the majority\n",
    "# then should be safe to use that as para_thres\n",
    "pd.DataFrame(pd.cut([idx for idx in df['block_ymin_diff']], [-1000, -0.01,10, 20, 30, 40, 50, 1000])).value_counts(normalize=True).sort_index()"
   ]
  },
  {
   "cell_type": "code",
   "execution_count": null,
   "metadata": {},
   "outputs": [],
   "source": [
    "df_combined = remove_toc(df_combined)\n",
    "df_combined"
   ]
  },
  {
   "cell_type": "code",
   "execution_count": null,
   "metadata": {},
   "outputs": [],
   "source": [
    "transformed_df = pivot_df_by_heading(df_combined)"
   ]
  },
  {
   "cell_type": "code",
   "execution_count": null,
   "metadata": {},
   "outputs": [],
   "source": [
    "transformed_df"
   ]
  },
  {
   "cell_type": "code",
   "execution_count": null,
   "metadata": {},
   "outputs": [],
   "source": [
    "link_dict = dict(zip(transformed_df.file.unique(), transformed_df.file.unique()))"
   ]
  },
  {
   "cell_type": "code",
   "execution_count": null,
   "metadata": {},
   "outputs": [],
   "source": [
    "df2docstore(transformed_df, chunk_size = 1000, link_dict = link_dict)"
   ]
  },
  {
   "cell_type": "code",
   "execution_count": null,
   "metadata": {},
   "outputs": [],
   "source": []
  }
 ],
 "metadata": {
  "kernelspec": {
   "display_name": "pdfinsight",
   "language": "python",
   "name": "python3"
  },
  "language_info": {
   "codemirror_mode": {
    "name": "ipython",
    "version": 3
   },
   "file_extension": ".py",
   "mimetype": "text/x-python",
   "name": "python",
   "nbconvert_exporter": "python",
   "pygments_lexer": "ipython3",
   "version": "3.8.17"
  },
  "orig_nbformat": 4
 },
 "nbformat": 4,
 "nbformat_minor": 2
}
