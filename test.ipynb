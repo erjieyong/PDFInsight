{
 "cells": [
  {
   "cell_type": "code",
   "execution_count": 45,
   "metadata": {},
   "outputs": [],
   "source": [
    "from src.pdfinsight import pdf_extractor\n",
    "import pandas as pd"
   ]
  },
  {
   "cell_type": "code",
   "execution_count": null,
   "metadata": {},
   "outputs": [],
   "source": [
    "df = pdf_extractor(\"220 Performance Report (Construction).pdf\", toc_pages = 1, )\n",
    "df"
   ]
  },
  {
   "cell_type": "code",
   "execution_count": 48,
   "metadata": {},
   "outputs": [
    {
     "data": {
      "text/plain": [
       "(-1000.0, -0.01]    0.019157\n",
       "(-0.01, 10.0]       0.452107\n",
       "(10.0, 20.0]        0.325670\n",
       "(20.0, 30.0]        0.126437\n",
       "(30.0, 40.0]        0.026820\n",
       "(40.0, 50.0]        0.019157\n",
       "(50.0, 1000.0]      0.030651\n",
       "Name: proportion, dtype: float64"
      ]
     },
     "execution_count": 48,
     "metadata": {},
     "output_type": "execute_result"
    }
   ],
   "source": [
    "# we check the ymin difference between each row INSTEAD OF BLOCK. \n",
    "# this is important in determining the para_thres\n",
    "# text below the para_thres would be considered to be in the same block of text (ie para) \n",
    "# seems like if those between 0 to 20 is above 70%, we can set that as para_thres\n",
    "pd.DataFrame(pd.cut([idx for idx in df['ymin_round'].diff()], [-1000, -0.01,10, 20, 30, 40, 50, 1000])).value_counts(normalize=True).sort_index()"
   ]
  },
  {
   "cell_type": "code",
   "execution_count": 49,
   "metadata": {},
   "outputs": [
    {
     "data": {
      "text/plain": [
       "(-1000.0, -0.01]    0.093385\n",
       "(-0.01, 10.0]       0.000000\n",
       "(10.0, 20.0]        0.431907\n",
       "(20.0, 30.0]        0.276265\n",
       "(30.0, 40.0]        0.112840\n",
       "(40.0, 50.0]        0.027237\n",
       "(50.0, 1000.0]      0.058366\n",
       "Name: proportion, dtype: float64"
      ]
     },
     "execution_count": 49,
     "metadata": {},
     "output_type": "execute_result"
    }
   ],
   "source": [
    "# double check the ymin_thres between REFINED_BLOCKS\n",
    "# as long as our defined para_thres of 20 is the majority\n",
    "# then should be safe to use that as para_thres\n",
    "pd.DataFrame(pd.cut([idx for idx in df['block_ymin_diff']], [-1000, -0.01,10, 20, 30, 40, 50, 1000])).value_counts(normalize=True).sort_index()"
   ]
  },
  {
   "cell_type": "code",
   "execution_count": null,
   "metadata": {},
   "outputs": [],
   "source": []
  }
 ],
 "metadata": {
  "kernelspec": {
   "display_name": "pdfinsight",
   "language": "python",
   "name": "python3"
  },
  "language_info": {
   "codemirror_mode": {
    "name": "ipython",
    "version": 3
   },
   "file_extension": ".py",
   "mimetype": "text/x-python",
   "name": "python",
   "nbconvert_exporter": "python",
   "pygments_lexer": "ipython3",
   "version": "3.8.17"
  },
  "orig_nbformat": 4
 },
 "nbformat": 4,
 "nbformat_minor": 2
}
